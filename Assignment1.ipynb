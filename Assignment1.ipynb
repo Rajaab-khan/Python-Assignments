{
  "nbformat": 4,
  "nbformat_minor": 0,
  "metadata": {
    "colab": {
      "name": "Assignment1.ipynb",
      "provenance": [],
      "authorship_tag": "ABX9TyPEqTdpvxqHHUmEwA5OyBp2",
      "include_colab_link": true
    },
    "kernelspec": {
      "name": "python3",
      "display_name": "Python 3"
    },
    "language_info": {
      "name": "python"
    }
  },
  "cells": [
    {
      "cell_type": "markdown",
      "metadata": {
        "id": "view-in-github",
        "colab_type": "text"
      },
      "source": [
        "<a href=\"https://colab.research.google.com/github/Rajaab-khan/Python-Assignments/blob/main/Assignment1.ipynb\" target=\"_parent\"><img src=\"https://colab.research.google.com/assets/colab-badge.svg\" alt=\"Open In Colab\"/></a>"
      ]
    },
    {
      "cell_type": "code",
      "metadata": {
        "id": "zLamTaBsVtiV",
        "colab": {
          "base_uri": "https://localhost:8080/"
        },
        "outputId": "2c59c553-86af-47d2-cc26-e22a1be3b1a2"
      },
      "source": [
        "# to read in and calculate subtraction, product of 2 numbers\n",
        "a=float(input(\"Enter First Numebr=\"))\n",
        "b=float(input(\"Enter Second Number=\"))\n",
        "# Difference\n",
        "Diff=a-b\n",
        "print(\"Difference=\",Diff)\n",
        "# Product\n",
        "Prod=a*b\n",
        "print(\"Product=\",Prod)\n",
        "# Division\n",
        "div=a/b\n",
        "print(\"Division=\",div)"
      ],
      "execution_count": 2,
      "outputs": [
        {
          "output_type": "stream",
          "text": [
            "Enter First Numebr=2\n",
            "Enter Second Number=4\n",
            "Difference= -2.0\n",
            "Product= 8.0\n",
            "Division= 0.5\n"
          ],
          "name": "stdout"
        }
      ]
    },
    {
      "cell_type": "code",
      "metadata": {
        "id": "UMv_XH3Q0jNf"
      },
      "source": [
        ""
      ],
      "execution_count": null,
      "outputs": []
    }
  ]
}