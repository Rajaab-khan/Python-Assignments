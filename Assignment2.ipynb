{
  "nbformat": 4,
  "nbformat_minor": 0,
  "metadata": {
    "colab": {
      "name": "Assignment2.ipynb",
      "provenance": [],
      "collapsed_sections": [],
      "authorship_tag": "ABX9TyN88EL0ToHNz6Sphk1Jouz2",
      "include_colab_link": true
    },
    "kernelspec": {
      "name": "python3",
      "display_name": "Python 3"
    },
    "language_info": {
      "name": "python"
    }
  },
  "cells": [
    {
      "cell_type": "markdown",
      "metadata": {
        "id": "view-in-github",
        "colab_type": "text"
      },
      "source": [
        "<a href=\"https://colab.research.google.com/github/Rajaab-khan/Python-Assignments/blob/main/Assignment2.ipynb\" target=\"_parent\"><img src=\"https://colab.research.google.com/assets/colab-badge.svg\" alt=\"Open In Colab\"/></a>"
      ]
    },
    {
      "cell_type": "code",
      "metadata": {
        "id": "-LmoUSLp-McY"
      },
      "source": [
        "#Lottery Run by user define inputs and for loop\n",
        "\n",
        "print(\"Enter Maximum Tickets Available\")\n",
        "maxTickets=int(input())\n",
        "participants=[]\n",
        "print(\"Enter names of participants:\\n\")\n",
        "for i in range(maxTickets):\n",
        "  names=input()\n",
        "  participants.append(names)\n",
        "print(\"you list\\n\",participants)\n",
        "import random\n",
        "winner=random.randint(0,maxTickets-1)\n",
        "print(\"Winner is:\\n\")\n",
        "participants[winner]"
      ],
      "execution_count": null,
      "outputs": []
    }
  ]
}